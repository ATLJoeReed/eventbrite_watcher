{
 "cells": [
  {
   "cell_type": "code",
   "execution_count": 1,
   "metadata": {},
   "outputs": [],
   "source": [
    "import requests\n",
    "from config import settings"
   ]
  },
  {
   "cell_type": "code",
   "execution_count": 2,
   "metadata": {},
   "outputs": [],
   "source": [
    "def build_headers(oauth_token):\n",
    "    token = \"Bearer {}\".format(oauth_token)\n",
    "    return {'Authorization': token}"
   ]
  },
  {
   "cell_type": "code",
   "execution_count": 13,
   "metadata": {},
   "outputs": [],
   "source": [
    "response = requests.get(\n",
    "    settings.BASE_URL,\n",
    "    headers=build_headers(settings.OAUTH_TOKEN),\n",
    "    #params={'organizer.id': '6453217513', 'include_unavailable_events': True},\n",
    "    params={'organizer.id': '6453217513'},\n",
    "    verify=True,\n",
    ")\n",
    "r = response.json()"
   ]
  },
  {
   "cell_type": "code",
   "execution_count": 14,
   "metadata": {},
   "outputs": [
    {
     "name": "stdout",
     "output_type": "stream",
     "text": [
      "Tour Switchyards Downtown Club\n"
     ]
    }
   ],
   "source": [
    "events = r.get('events', None)\n",
    "\n",
    "for event in events:\n",
    "    print(event['name']['text'])"
   ]
  },
  {
   "cell_type": "code",
   "execution_count": null,
   "metadata": {},
   "outputs": [],
   "source": []
  }
 ],
 "metadata": {
  "kernelspec": {
   "display_name": "Python 3",
   "language": "python",
   "name": "python3"
  },
  "language_info": {
   "codemirror_mode": {
    "name": "ipython",
    "version": 3
   },
   "file_extension": ".py",
   "mimetype": "text/x-python",
   "name": "python",
   "nbconvert_exporter": "python",
   "pygments_lexer": "ipython3",
   "version": "3.6.3"
  }
 },
 "nbformat": 4,
 "nbformat_minor": 2
}
